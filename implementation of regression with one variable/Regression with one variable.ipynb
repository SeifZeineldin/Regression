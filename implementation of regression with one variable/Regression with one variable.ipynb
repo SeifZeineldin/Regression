{
 "cells": [
  {
   "cell_type": "code",
   "execution_count": 14,
   "id": "2f91bead",
   "metadata": {
    "ExecuteTime": {
     "end_time": "2022-07-19T13:16:55.842777Z",
     "start_time": "2022-07-19T13:16:55.833463Z"
    }
   },
   "outputs": [],
   "source": [
    "import pandas as pd\n",
    "import numpy as np\n",
    "import matplotlib.pyplot as plt"
   ]
  },
  {
   "cell_type": "code",
   "execution_count": 15,
   "id": "61b888a1",
   "metadata": {
    "ExecuteTime": {
     "end_time": "2022-07-19T13:16:57.947518Z",
     "start_time": "2022-07-19T13:16:57.923541Z"
    }
   },
   "outputs": [
    {
     "data": {
      "text/html": [
       "<div>\n",
       "<style scoped>\n",
       "    .dataframe tbody tr th:only-of-type {\n",
       "        vertical-align: middle;\n",
       "    }\n",
       "\n",
       "    .dataframe tbody tr th {\n",
       "        vertical-align: top;\n",
       "    }\n",
       "\n",
       "    .dataframe thead th {\n",
       "        text-align: right;\n",
       "    }\n",
       "</style>\n",
       "<table border=\"1\" class=\"dataframe\">\n",
       "  <thead>\n",
       "    <tr style=\"text-align: right;\">\n",
       "      <th></th>\n",
       "      <th>population</th>\n",
       "      <th>profit</th>\n",
       "    </tr>\n",
       "  </thead>\n",
       "  <tbody>\n",
       "    <tr>\n",
       "      <th>0</th>\n",
       "      <td>6.1101</td>\n",
       "      <td>17.59200</td>\n",
       "    </tr>\n",
       "    <tr>\n",
       "      <th>1</th>\n",
       "      <td>5.5277</td>\n",
       "      <td>9.13020</td>\n",
       "    </tr>\n",
       "    <tr>\n",
       "      <th>2</th>\n",
       "      <td>8.5186</td>\n",
       "      <td>13.66200</td>\n",
       "    </tr>\n",
       "    <tr>\n",
       "      <th>3</th>\n",
       "      <td>7.0032</td>\n",
       "      <td>11.85400</td>\n",
       "    </tr>\n",
       "    <tr>\n",
       "      <th>4</th>\n",
       "      <td>5.8598</td>\n",
       "      <td>6.82330</td>\n",
       "    </tr>\n",
       "    <tr>\n",
       "      <th>...</th>\n",
       "      <td>...</td>\n",
       "      <td>...</td>\n",
       "    </tr>\n",
       "    <tr>\n",
       "      <th>92</th>\n",
       "      <td>5.8707</td>\n",
       "      <td>7.20290</td>\n",
       "    </tr>\n",
       "    <tr>\n",
       "      <th>93</th>\n",
       "      <td>5.3054</td>\n",
       "      <td>1.98690</td>\n",
       "    </tr>\n",
       "    <tr>\n",
       "      <th>94</th>\n",
       "      <td>8.2934</td>\n",
       "      <td>0.14454</td>\n",
       "    </tr>\n",
       "    <tr>\n",
       "      <th>95</th>\n",
       "      <td>13.3940</td>\n",
       "      <td>9.05510</td>\n",
       "    </tr>\n",
       "    <tr>\n",
       "      <th>96</th>\n",
       "      <td>5.4369</td>\n",
       "      <td>0.61705</td>\n",
       "    </tr>\n",
       "  </tbody>\n",
       "</table>\n",
       "<p>97 rows × 2 columns</p>\n",
       "</div>"
      ],
      "text/plain": [
       "    population    profit\n",
       "0       6.1101  17.59200\n",
       "1       5.5277   9.13020\n",
       "2       8.5186  13.66200\n",
       "3       7.0032  11.85400\n",
       "4       5.8598   6.82330\n",
       "..         ...       ...\n",
       "92      5.8707   7.20290\n",
       "93      5.3054   1.98690\n",
       "94      8.2934   0.14454\n",
       "95     13.3940   9.05510\n",
       "96      5.4369   0.61705\n",
       "\n",
       "[97 rows x 2 columns]"
      ]
     },
     "execution_count": 15,
     "metadata": {},
     "output_type": "execute_result"
    }
   ],
   "source": [
    "df=pd.read_csv(\"Regression one variable.txt\", header=None , names=[\"population\",\"profit\"])\n",
    "df"
   ]
  },
  {
   "cell_type": "code",
   "execution_count": 16,
   "id": "1273fe21",
   "metadata": {
    "ExecuteTime": {
     "end_time": "2022-07-19T13:17:00.786642Z",
     "start_time": "2022-07-19T13:17:00.668924Z"
    }
   },
   "outputs": [
    {
     "data": {
      "text/plain": [
       "Text(0, 0.5, 'profit')"
      ]
     },
     "execution_count": 16,
     "metadata": {},
     "output_type": "execute_result"
    },
    {
     "data": {
      "image/png": "[encoded data removed]",
      "text/plain": [
       "<Figure size 432x288 with 1 Axes>"
      ]
     },
     "metadata": {
      "needs_background": "light"
     },
     "output_type": "display_data"
    }
   ],
   "source": [
    "plt.scatter(df[\"population\"],df[\"profit\"])\n",
    "plt.xlabel(\"population\")\n",
    "plt.ylabel(\"profit\")"
   ]
  },
  {
   "cell_type": "code",
   "execution_count": 17,
   "id": "f5e00219",
   "metadata": {
    "ExecuteTime": {
     "end_time": "2022-07-19T13:17:04.408695Z",
     "start_time": "2022-07-19T13:17:04.396329Z"
    }
   },
   "outputs": [],
   "source": [
    "df.insert(0,\"ones\",1)\n"
   ]
  },
  {
   "cell_type": "code",
   "execution_count": 18,
   "id": "18ed34e2",
   "metadata": {
    "ExecuteTime": {
     "end_time": "2022-07-19T13:17:06.999970Z",
     "start_time": "2022-07-19T13:17:06.972127Z"
    },
    "scrolled": true
   },
   "outputs": [
    {
     "data": {
      "text/html": [
       "<div>\n",
       "<style scoped>\n",
       "    .dataframe tbody tr th:only-of-type {\n",
       "        vertical-align: middle;\n",
       "    }\n",
       "\n",
       "    .dataframe tbody tr th {\n",
       "        vertical-align: top;\n",
       "    }\n",
       "\n",
       "    .dataframe thead th {\n",
       "        text-align: right;\n",
       "    }\n",
       "</style>\n",
       "<table border=\"1\" class=\"dataframe\">\n",
       "  <thead>\n",
       "    <tr style=\"text-align: right;\">\n",
       "      <th></th>\n",
       "      <th>ones</th>\n",
       "      <th>population</th>\n",
       "      <th>profit</th>\n",
       "    </tr>\n",
       "  </thead>\n",
       "  <tbody>\n",
       "    <tr>\n",
       "      <th>0</th>\n",
       "      <td>1</td>\n",
       "      <td>6.1101</td>\n",
       "      <td>17.59200</td>\n",
       "    </tr>\n",
       "    <tr>\n",
       "      <th>1</th>\n",
       "      <td>1</td>\n",
       "      <td>5.5277</td>\n",
       "      <td>9.13020</td>\n",
       "    </tr>\n",
       "    <tr>\n",
       "      <th>2</th>\n",
       "      <td>1</td>\n",
       "      <td>8.5186</td>\n",
       "      <td>13.66200</td>\n",
       "    </tr>\n",
       "    <tr>\n",
       "      <th>3</th>\n",
       "      <td>1</td>\n",
       "      <td>7.0032</td>\n",
       "      <td>11.85400</td>\n",
       "    </tr>\n",
       "    <tr>\n",
       "      <th>4</th>\n",
       "      <td>1</td>\n",
       "      <td>5.8598</td>\n",
       "      <td>6.82330</td>\n",
       "    </tr>\n",
       "    <tr>\n",
       "      <th>...</th>\n",
       "      <td>...</td>\n",
       "      <td>...</td>\n",
       "      <td>...</td>\n",
       "    </tr>\n",
       "    <tr>\n",
       "      <th>92</th>\n",
       "      <td>1</td>\n",
       "      <td>5.8707</td>\n",
       "      <td>7.20290</td>\n",
       "    </tr>\n",
       "    <tr>\n",
       "      <th>93</th>\n",
       "      <td>1</td>\n",
       "      <td>5.3054</td>\n",
       "      <td>1.98690</td>\n",
       "    </tr>\n",
       "    <tr>\n",
       "      <th>94</th>\n",
       "      <td>1</td>\n",
       "      <td>8.2934</td>\n",
       "      <td>0.14454</td>\n",
       "    </tr>\n",
       "    <tr>\n",
       "      <th>95</th>\n",
       "      <td>1</td>\n",
       "      <td>13.3940</td>\n",
       "      <td>9.05510</td>\n",
       "    </tr>\n",
       "    <tr>\n",
       "      <th>96</th>\n",
       "      <td>1</td>\n",
       "      <td>5.4369</td>\n",
       "      <td>0.61705</td>\n",
       "    </tr>\n",
       "  </tbody>\n",
       "</table>\n",
       "<p>97 rows × 3 columns</p>\n",
       "</div>"
      ],
      "text/plain": [
       "    ones  population    profit\n",
       "0      1      6.1101  17.59200\n",
       "1      1      5.5277   9.13020\n",
       "2      1      8.5186  13.66200\n",
       "3      1      7.0032  11.85400\n",
       "4      1      5.8598   6.82330\n",
       "..   ...         ...       ...\n",
       "92     1      5.8707   7.20290\n",
       "93     1      5.3054   1.98690\n",
       "94     1      8.2934   0.14454\n",
       "95     1     13.3940   9.05510\n",
       "96     1      5.4369   0.61705\n",
       "\n",
       "[97 rows x 3 columns]"
      ]
     },
     "execution_count": 18,
     "metadata": {},
     "output_type": "execute_result"
    }
   ],
   "source": [
    "df"
   ]
  },
  {
   "cell_type": "code",
   "execution_count": 111,
   "id": "fb9b2923",
   "metadata": {
    "ExecuteTime": {
     "end_time": "2022-07-19T14:50:41.567811Z",
     "start_time": "2022-07-19T14:50:41.555230Z"
    }
   },
   "outputs": [
    {
     "data": {
      "text/plain": [
       "(97, 2)"
      ]
     },
     "execution_count": 111,
     "metadata": {},
     "output_type": "execute_result"
    }
   ],
   "source": [
    "x=df[[\"ones\",\"population\"]]\n",
    "y=df[[\"profit\"]]\n",
    "x = np.matrix(x.values)\n",
    "y = np.matrix(y.values)\n",
    "theta = np.matrix(np.array([0,0]))"
   ]
  },
  {
   "cell_type": "code",
   "execution_count": 69,
   "id": "bbc5d580",
   "metadata": {
    "ExecuteTime": {
     "end_time": "2022-07-19T13:56:49.033804Z",
     "start_time": "2022-07-19T13:56:49.020764Z"
    }
   },
   "outputs": [],
   "source": [
    "def costFunction(X,Y,theta): \n",
    "    z=np.power(((X* theta.T)-Y),2)\n",
    "    return sum(z)/(2*X.shape[0])"
   ]
  },
  {
   "cell_type": "code",
   "execution_count": 70,
   "id": "ff053e62",
   "metadata": {
    "ExecuteTime": {
     "end_time": "2022-07-19T13:56:50.852208Z",
     "start_time": "2022-07-19T13:56:50.836548Z"
    }
   },
   "outputs": [
    {
     "data": {
      "text/plain": [
       "matrix([[32.07273388]])"
      ]
     },
     "execution_count": 70,
     "metadata": {},
     "output_type": "execute_result"
    }
   ],
   "source": [
    "costFunction(x,y,theta)"
   ]
  },
  {
   "cell_type": "code",
   "execution_count": 134,
   "id": "0510b777",
   "metadata": {
    "ExecuteTime": {
     "end_time": "2022-07-19T15:30:18.432449Z",
     "start_time": "2022-07-19T15:30:18.417839Z"
    }
   },
   "outputs": [],
   "source": [
    "def gradientDescent(x,y,theta,alpha, iters):\n",
    "    temp=np.matrix(np.zeros(theta.shape))\n",
    "    parametars=theta.shape[1]#2\n",
    "    cost=np.zeros(iters)\n",
    "    for i in range(iters):\n",
    "        error=(x*theta.T)-y\n",
    "        for j in range(parametars):\n",
    "            term=np.multiply(error,x[:,j])\n",
    "            temp[0,j]=theta[0,j]-((alpha*(1/x.shape[0]))*sum(term))\n",
    "        theta=temp\n",
    "        cost[i]=costFunction(x,y,theta)\n",
    "    return theta , cost\n",
    "                "
   ]
  },
  {
   "cell_type": "raw",
   "id": "cf60fc34",
   "metadata": {
    "ExecuteTime": {
     "end_time": "2022-07-19T15:39:14.051048Z",
     "start_time": "2022-07-19T15:39:12.008021Z"
    }
   },
   "source": [
    "alpha=.0\n",
    "iters=900\n",
    "g,cost=gradientDescent(x,y,theta,alpha,iters)\n",
    "print(g,cost)"
   ]
  },
  {
   "cell_type": "code",
   "execution_count": 143,
   "id": "611aea7e",
   "metadata": {
    "ExecuteTime": {
     "end_time": "2022-07-19T17:07:31.598951Z",
     "start_time": "2022-07-19T17:07:31.404251Z"
    }
   },
   "outputs": [
    {
     "data": {
      "text/plain": [
       "<matplotlib.collections.PathCollection at 0x1a0922a5700>"
      ]
     },
     "execution_count": 143,
     "metadata": {},
     "output_type": "execute_result"
    },
    {
     "data": {
      "image/png": "[encoded data removed]",
      "text/plain": [
       "<Figure size 432x288 with 1 Axes>"
      ]
     },
     "metadata": {
      "needs_background": "light"
     },
     "output_type": "display_data"
    }
   ],
   "source": [
    "line=np.linspace(df.population.min(),df.population.max(),100)\n",
    "equation=g[0,0]+(g[0,1]*line)\n",
    "plt.plot(line, equation, 'r', label='Prediction')\n",
    "plt.scatter(df[\"population\"], df[\"profit\"], label='Traning Data')\n"
   ]
  },
  {
   "cell_type": "code",
   "execution_count": 140,
   "id": "b242d5ed",
   "metadata": {
    "ExecuteTime": {
     "end_time": "2022-07-19T15:39:28.365918Z",
     "start_time": "2022-07-19T15:39:28.192017Z"
    }
   },
   "outputs": [
    {
     "data": {
      "text/plain": [
       "[<matplotlib.lines.Line2D at 0x1a091190dc0>]"
      ]
     },
     "execution_count": 140,
     "metadata": {},
     "output_type": "execute_result"
    },
    {
     "data": {
      "image/png": "[encoded data removed]",
      "text/plain": [
       "<Figure size 432x288 with 1 Axes>"
      ]
     },
     "metadata": {
      "needs_background": "light"
     },
     "output_type": "display_data"
    }
   ],
   "source": [
    "plt.plot(np.arange(iters), cost, 'r')\n"
   ]
  },
  {
   "cell_type": "code",
   "execution_count": null,
   "id": "b1b5c01d",
   "metadata": {},
   "outputs": [],
   "source": []
  }
 ],
 "metadata": {
  "kernelspec": {
   "display_name": "Python 3 (ipykernel)",
   "language": "python",
   "name": "python3"
  },
  "language_info": {
   "codemirror_mode": {
    "name": "ipython",
    "version": 3
   },
   "file_extension": ".py",
   "mimetype": "text/x-python",
   "name": "python",
   "nbconvert_exporter": "python",
   "pygments_lexer": "ipython3",
   "version": "3.9.12"
  }
 },
 "nbformat": 4,
 "nbformat_minor": 5
}
