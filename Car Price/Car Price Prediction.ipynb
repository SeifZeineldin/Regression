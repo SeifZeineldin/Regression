{
 "cells": [
  {
   "cell_type": "markdown",
   "id": "99d3bba0",
   "metadata": {},
   "source": [
    "# imoprt modules"
   ]
  },
  {
   "cell_type": "code",
   "execution_count": 77,
   "id": "79578f1b",
   "metadata": {
    "ExecuteTime": {
     "end_time": "2022-08-18T11:19:57.551363Z",
     "start_time": "2022-08-18T11:19:57.534976Z"
    }
   },
   "outputs": [],
   "source": [
    "import pandas as pd\n",
    "import numpy as np\n",
    "import matplotlib.pyplot as plt\n",
    "import seaborn as sns"
   ]
  },
  {
   "cell_type": "markdown",
   "id": "4543ba10",
   "metadata": {},
   "source": [
    "# load Data "
   ]
  },
  {
   "cell_type": "code",
   "execution_count": 78,
   "id": "93d5bddb",
   "metadata": {
    "ExecuteTime": {
     "end_time": "2022-08-18T11:20:00.109818Z",
     "start_time": "2022-08-18T11:19:59.991006Z"
    }
   },
   "outputs": [
    {
     "name": "stdout",
     "output_type": "stream",
     "text": [
      "shape : (19235, 18)\n"
     ]
    }
   ],
   "source": [
    "df=pd.read_csv(\"car_price_prediction.csv\")\n",
    "print(\"shape :\",df.shape)"
   ]
  },
  {
   "cell_type": "markdown",
   "id": "5f0329d7",
   "metadata": {},
   "source": [
    "# Explore Data"
   ]
  },
  {
   "cell_type": "code",
   "execution_count": 300,
   "id": "8eccf04b",
   "metadata": {
    "ExecuteTime": {
     "end_time": "2022-08-17T18:28:02.198859Z",
     "start_time": "2022-08-17T18:28:02.136805Z"
    }
   },
   "outputs": [
    {
     "data": {
      "text/plain": [
       "Manufacturer            0\n",
       "Price                   0\n",
       "Levy                    0\n",
       "Unnamed: 3          19235\n",
       "Model                   0\n",
       "Prod. year              0\n",
       "Category                0\n",
       "Leather interior        0\n",
       "Fuel type               0\n",
       "Engine volume           0\n",
       "Mileage                 0\n",
       "Cylinders               0\n",
       "Gear box type           0\n",
       "Drive wheels            0\n",
       "Doors                   0\n",
       "Wheel                   0\n",
       "Color                   0\n",
       "Airbags                 0\n",
       "dtype: int64"
      ]
     },
     "execution_count": 300,
     "metadata": {},
     "output_type": "execute_result"
    }
   ],
   "source": [
    "df.isnull().sum()"
   ]
  },
  {
   "cell_type": "markdown",
   "id": "b40c81b6",
   "metadata": {},
   "source": [
    "*we must drop Unnamed: 3*"
   ]
  },
  {
   "cell_type": "code",
   "execution_count": 79,
   "id": "d27dbd53",
   "metadata": {
    "ExecuteTime": {
     "end_time": "2022-08-18T11:20:02.757474Z",
     "start_time": "2022-08-18T11:20:02.743243Z"
    }
   },
   "outputs": [],
   "source": [
    "df.drop('Unnamed: 3',axis='columns',inplace=True)\n"
   ]
  },
  {
   "cell_type": "code",
   "execution_count": 4,
   "id": "f33aa27a",
   "metadata": {
    "ExecuteTime": {
     "end_time": "2022-08-18T10:35:57.124242Z",
     "start_time": "2022-08-18T10:35:56.864702Z"
    }
   },
   "outputs": [
    {
     "data": {
      "text/html": [
       "<div>\n",
       "<style scoped>\n",
       "    .dataframe tbody tr th:only-of-type {\n",
       "        vertical-align: middle;\n",
       "    }\n",
       "\n",
       "    .dataframe tbody tr th {\n",
       "        vertical-align: top;\n",
       "    }\n",
       "\n",
       "    .dataframe thead th {\n",
       "        text-align: right;\n",
       "    }\n",
       "</style>\n",
       "<table border=\"1\" class=\"dataframe\">\n",
       "  <thead>\n",
       "    <tr style=\"text-align: right;\">\n",
       "      <th></th>\n",
       "      <th>Price</th>\n",
       "      <th>Prod. year</th>\n",
       "      <th>Cylinders</th>\n",
       "      <th>Airbags</th>\n",
       "    </tr>\n",
       "  </thead>\n",
       "  <tbody>\n",
       "    <tr>\n",
       "      <th>count</th>\n",
       "      <td>1.923500e+04</td>\n",
       "      <td>19235.000000</td>\n",
       "      <td>19235.000000</td>\n",
       "      <td>19235.000000</td>\n",
       "    </tr>\n",
       "    <tr>\n",
       "      <th>mean</th>\n",
       "      <td>1.855606e+04</td>\n",
       "      <td>2010.913335</td>\n",
       "      <td>4.583052</td>\n",
       "      <td>6.583156</td>\n",
       "    </tr>\n",
       "    <tr>\n",
       "      <th>std</th>\n",
       "      <td>1.905912e+05</td>\n",
       "      <td>5.668737</td>\n",
       "      <td>1.199981</td>\n",
       "      <td>4.320079</td>\n",
       "    </tr>\n",
       "    <tr>\n",
       "      <th>min</th>\n",
       "      <td>1.000000e+00</td>\n",
       "      <td>1939.000000</td>\n",
       "      <td>1.000000</td>\n",
       "      <td>0.000000</td>\n",
       "    </tr>\n",
       "    <tr>\n",
       "      <th>25%</th>\n",
       "      <td>5.331000e+03</td>\n",
       "      <td>2009.000000</td>\n",
       "      <td>4.000000</td>\n",
       "      <td>4.000000</td>\n",
       "    </tr>\n",
       "    <tr>\n",
       "      <th>50%</th>\n",
       "      <td>1.317200e+04</td>\n",
       "      <td>2012.000000</td>\n",
       "      <td>4.000000</td>\n",
       "      <td>6.000000</td>\n",
       "    </tr>\n",
       "    <tr>\n",
       "      <th>75%</th>\n",
       "      <td>2.206900e+04</td>\n",
       "      <td>2015.000000</td>\n",
       "      <td>4.000000</td>\n",
       "      <td>12.000000</td>\n",
       "    </tr>\n",
       "    <tr>\n",
       "      <th>max</th>\n",
       "      <td>2.630750e+07</td>\n",
       "      <td>2020.000000</td>\n",
       "      <td>16.000000</td>\n",
       "      <td>16.000000</td>\n",
       "    </tr>\n",
       "  </tbody>\n",
       "</table>\n",
       "</div>"
      ],
      "text/plain": [
       "              Price    Prod. year     Cylinders       Airbags\n",
       "count  1.923500e+04  19235.000000  19235.000000  19235.000000\n",
       "mean   1.855606e+04   2010.913335      4.583052      6.583156\n",
       "std    1.905912e+05      5.668737      1.199981      4.320079\n",
       "min    1.000000e+00   1939.000000      1.000000      0.000000\n",
       "25%    5.331000e+03   2009.000000      4.000000      4.000000\n",
       "50%    1.317200e+04   2012.000000      4.000000      6.000000\n",
       "75%    2.206900e+04   2015.000000      4.000000     12.000000\n",
       "max    2.630750e+07   2020.000000     16.000000     16.000000"
      ]
     },
     "execution_count": 4,
     "metadata": {},
     "output_type": "execute_result"
    }
   ],
   "source": [
    "df.describe()"
   ]
  },
  {
   "cell_type": "markdown",
   "id": "d6985bdb",
   "metadata": {},
   "source": [
    "###  Price not make sense , max:26 million!!!  min :1!!!"
   ]
  },
  {
   "cell_type": "code",
   "execution_count": 80,
   "id": "58533485",
   "metadata": {
    "ExecuteTime": {
     "end_time": "2022-08-18T11:20:05.558875Z",
     "start_time": "2022-08-18T11:20:05.544959Z"
    }
   },
   "outputs": [
    {
     "data": {
      "text/plain": [
       "13925    26307500\n",
       "9261       872946\n",
       "10613      627220\n",
       "14009      308906\n",
       "9307       297930\n",
       "11480      297930\n",
       "695        288521\n",
       "9861       260296\n",
       "11100      254024\n",
       "12129      250574\n",
       "Name: Price, dtype: int64"
      ]
     },
     "execution_count": 80,
     "metadata": {},
     "output_type": "execute_result"
    }
   ],
   "source": [
    "df.Price.sort_values(ascending=False).head(10)"
   ]
  },
  {
   "cell_type": "code",
   "execution_count": 81,
   "id": "cb0065d5",
   "metadata": {
    "ExecuteTime": {
     "end_time": "2022-08-18T11:20:08.199684Z",
     "start_time": "2022-08-18T11:20:08.179335Z"
    }
   },
   "outputs": [],
   "source": [
    "df.drop(index=13925,inplace=True)"
   ]
  },
  {
   "cell_type": "markdown",
   "id": "8d2e21a0",
   "metadata": {},
   "source": [
    "## Is there a car for less than 5000 !! , I think it was a data entry error"
   ]
  },
  {
   "cell_type": "code",
   "execution_count": 82,
   "id": "c33529bf",
   "metadata": {
    "ExecuteTime": {
     "end_time": "2022-08-18T11:20:10.020159Z",
     "start_time": "2022-08-18T11:20:09.994984Z"
    }
   },
   "outputs": [],
   "source": [
    "error=df[df[\"Price\"]<5000].index.to_list()\n",
    "df.drop(index=error,inplace=True)"
   ]
  },
  {
   "cell_type": "code",
   "execution_count": 5,
   "id": "63d93fc1",
   "metadata": {
    "ExecuteTime": {
     "end_time": "2022-08-18T10:36:24.242670Z",
     "start_time": "2022-08-18T10:36:22.967710Z"
    }
   },
   "outputs": [
    {
     "data": {
      "image/png": "[encoded data removed]",
      "text/plain": [
       "<Figure size 720x576 with 1 Axes>"
      ]
     },
     "metadata": {},
     "output_type": "display_data"
    }
   ],
   "source": [
    "plt.figure(figsize=(10,8))\n",
    "\n",
    "maxManufacturer = df.Manufacturer.value_counts()[:13].to_list()\n",
    "maxManufacturernames = df.Manufacturer.value_counts().index[:13].to_list()\n",
    "maxManufacturernames.append(\"Other\")\n",
    "allManufacturer = sum(maxManufacturer)\n",
    "\n",
    "others = sum(list(df.Manufacturer.value_counts())) - allManufacturer\n",
    "maxManufacturer.append(others)\n",
    "plt.pie(maxManufacturer, labels=maxManufacturernames, autopct=\"%0.2f%%\")\n",
    "plt.show()"
   ]
  },
  {
   "cell_type": "markdown",
   "id": "344f9e8b",
   "metadata": {},
   "source": [
    "# Date Preprocessing"
   ]
  },
  {
   "cell_type": "markdown",
   "id": "5ab91c82",
   "metadata": {},
   "source": [
    "### 1-Manufacturer"
   ]
  },
  {
   "cell_type": "code",
   "execution_count": 83,
   "id": "9131485b",
   "metadata": {
    "ExecuteTime": {
     "end_time": "2022-08-18T11:20:13.238837Z",
     "start_time": "2022-08-18T11:20:13.209458Z"
    }
   },
   "outputs": [
    {
     "data": {
      "text/plain": [
       "Manufacturer\n",
       "LAMBORGHINI      872946.000000\n",
       "BENTLEY          197574.500000\n",
       "FERRARI           66955.500000\n",
       "PORSCHE           57614.113636\n",
       "LAND ROVER        55081.604167\n",
       "ASTON MARTIN      54000.000000\n",
       "TESLA             53941.000000\n",
       "JAGUAR            47762.000000\n",
       "HUMMER            39005.000000\n",
       "LEXUS             34141.940741\n",
       "SSANGYONG         31016.097950\n",
       "JEEP              29039.066667\n",
       "MASERATI          26761.333333\n",
       "MERCEDES-BENZ     25939.053571\n",
       "BMW               25652.536266\n",
       "HYUNDAI           24781.230290\n",
       "AUDI              23939.104895\n",
       "INFINITI          21780.518519\n",
       "CADILLAC          21678.250000\n",
       "MINI              20835.435897\n",
       "FORD              20780.199507\n",
       "ACURA             20436.666667\n",
       "LINCOLN           20008.400000\n",
       "TOYOTA            19682.226269\n",
       "PEUGEOT           19261.090909\n",
       "HONDA             18537.713514\n",
       "CHEVROLET         18336.067138\n",
       "KIA               17694.109244\n",
       "BUICK             16530.500000\n",
       "MERCURY           16412.333333\n",
       "SCION             16173.000000\n",
       "GAZ               16128.428571\n",
       "MOSKVICH          15681.000000\n",
       "ALFA ROMEO        15680.500000\n",
       "SKODA             15636.631579\n",
       "VOLKSWAGEN        15243.968825\n",
       "HAVAL             15053.000000\n",
       "MAZDA             15024.293578\n",
       "VOLVO             14772.666667\n",
       "MITSUBISHI        14700.755906\n",
       "FIAT              14430.844828\n",
       "RENAULT           14266.321429\n",
       "SUZUKI            14236.645161\n",
       "SATURN            13799.000000\n",
       "DODGE             13649.333333\n",
       "SUBARU            13252.444444\n",
       "NISSAN            13232.579832\n",
       "CHRYSLER          12720.812500\n",
       "GMC               12387.571429\n",
       "LANCIA            12231.000000\n",
       "CITROEN           11758.000000\n",
       "GREATWALL         10036.000000\n",
       "ISUZU              9643.500000\n",
       "VAZ                8926.133333\n",
       "OPEL               8735.616541\n",
       "DAIHATSU           7679.285714\n",
       "DAEWOO             7281.182927\n",
       "SAAB               6920.000000\n",
       "UAZ                6765.000000\n",
       "PONTIAC            6600.000000\n",
       "Name: Price, dtype: float64"
      ]
     },
     "execution_count": 83,
     "metadata": {},
     "output_type": "execute_result"
    }
   ],
   "source": [
    "gb=df.groupby(by=\"Manufacturer\")[\"Price\"].mean().sort_values(ascending=False).head(60)\n",
    "gb\n"
   ]
  },
  {
   "cell_type": "code",
   "execution_count": 84,
   "id": "7cadeecc",
   "metadata": {
    "ExecuteTime": {
     "end_time": "2022-08-18T11:20:16.728708Z",
     "start_time": "2022-08-18T11:20:16.686180Z"
    }
   },
   "outputs": [],
   "source": [
    "A=gb[gb>=50000].index\n",
    "B=gb[gb>=30000].index\n",
    "C=gb[gb>=15000].index\n",
    "def category(x):\n",
    "    if x in A:\n",
    "        return \"A\"\n",
    "    elif x in B:\n",
    "        return \"B\"\n",
    "    elif x in C:\n",
    "        return \"C\"\n",
    "    else:\n",
    "        return \"D\"\n",
    "df[\"Manufacturer\"]=df[\"Manufacturer\"].apply(category)"
   ]
  },
  {
   "cell_type": "markdown",
   "id": "b572e109",
   "metadata": {},
   "source": [
    "### 2-Prod.year"
   ]
  },
  {
   "cell_type": "code",
   "execution_count": 85,
   "id": "30fee21b",
   "metadata": {
    "ExecuteTime": {
     "end_time": "2022-08-18T11:20:20.311611Z",
     "start_time": "2022-08-18T11:20:19.677354Z"
    }
   },
   "outputs": [
    {
     "data": {
      "text/plain": [
       "<AxesSubplot:xlabel='Prod. year', ylabel='count'>"
      ]
     },
     "execution_count": 85,
     "metadata": {},
     "output_type": "execute_result"
    },
    {
     "data": {
      "image/png": "[encoded data removed]",
      "text/plain": [
       "<Figure size 2160x720 with 1 Axes>"
      ]
     },
     "metadata": {
      "needs_background": "light"
     },
     "output_type": "display_data"
    }
   ],
   "source": [
    "plt.figure(figsize=(30,10))\n",
    "sns.countplot(x=\"Prod. year\",data=df)\n"
   ]
  },
  {
   "cell_type": "code",
   "execution_count": 86,
   "id": "83346254",
   "metadata": {
    "ExecuteTime": {
     "end_time": "2022-08-18T11:20:23.174524Z",
     "start_time": "2022-08-18T11:20:22.957094Z"
    }
   },
   "outputs": [
    {
     "data": {
      "text/plain": [
       "<matplotlib.collections.PathCollection at 0x22e72e2efa0>"
      ]
     },
     "execution_count": 86,
     "metadata": {},
     "output_type": "execute_result"
    },
    {
     "data": {
      "image/png": "[encoded data removed]",
      "text/plain": [
       "<Figure size 432x288 with 1 Axes>"
      ]
     },
     "metadata": {
      "needs_background": "light"
     },
     "output_type": "display_data"
    }
   ],
   "source": [
    "plt.scatter(df[\"Prod. year\"],df[\"Price\"])"
   ]
  },
  {
   "cell_type": "markdown",
   "id": "65f0c6ff",
   "metadata": {},
   "source": [
    "### 3-Doors"
   ]
  },
  {
   "cell_type": "code",
   "execution_count": 87,
   "id": "1c3fc571",
   "metadata": {
    "ExecuteTime": {
     "end_time": "2022-08-18T11:20:31.909565Z",
     "start_time": "2022-08-18T11:20:31.890253Z"
    }
   },
   "outputs": [
    {
     "data": {
      "text/plain": [
       "4-May    13886\n",
       "2-Mar      623\n",
       ">5         112\n",
       "Name: Doors, dtype: int64"
      ]
     },
     "execution_count": 87,
     "metadata": {},
     "output_type": "execute_result"
    }
   ],
   "source": [
    "df[\"Doors\"].value_counts()"
   ]
  },
  {
   "cell_type": "markdown",
   "id": "1766ac41",
   "metadata": {
    "ExecuteTime": {
     "end_time": "2022-08-17T16:59:23.297744Z",
     "start_time": "2022-08-17T16:59:23.280758Z"
    }
   },
   "source": [
    "*what!,what mean \"4-May\" and \"2-Mar\"?*"
   ]
  },
  {
   "cell_type": "code",
   "execution_count": 88,
   "id": "25fc21dc",
   "metadata": {
    "ExecuteTime": {
     "end_time": "2022-08-18T11:20:34.782303Z",
     "start_time": "2022-08-18T11:20:34.767228Z"
    }
   },
   "outputs": [],
   "source": [
    "df[\"Doors\"]=df[\"Doors\"].replace({\n",
    "    \"4-May\":\"4-5\",\n",
    "    \"2-Mar\":\"2-3\"})"
   ]
  },
  {
   "cell_type": "markdown",
   "id": "a3fa3783",
   "metadata": {},
   "source": [
    "### 4-Levy"
   ]
  },
  {
   "cell_type": "code",
   "execution_count": 89,
   "id": "5697f228",
   "metadata": {
    "ExecuteTime": {
     "end_time": "2022-08-18T11:20:36.670079Z",
     "start_time": "2022-08-18T11:20:36.657261Z"
    }
   },
   "outputs": [
    {
     "data": {
      "text/plain": [
       "-       4932\n",
       "765      444\n",
       "891      424\n",
       "639      361\n",
       "640      319\n",
       "        ... \n",
       "1502       1\n",
       "2223       1\n",
       "3008       1\n",
       "2236       1\n",
       "1064       1\n",
       "Name: Levy, Length: 508, dtype: int64"
      ]
     },
     "execution_count": 89,
     "metadata": {},
     "output_type": "execute_result"
    }
   ],
   "source": [
    "df[\"Levy\"].value_counts()\n"
   ]
  },
  {
   "cell_type": "code",
   "execution_count": 90,
   "id": "79ac40ab",
   "metadata": {
    "ExecuteTime": {
     "end_time": "2022-08-18T11:20:40.138542Z",
     "start_time": "2022-08-18T11:20:40.110376Z"
    }
   },
   "outputs": [],
   "source": [
    "df[\"Levy\"]=df[\"Levy\"].replace({\n",
    "    \"-\":\"0\"})\n",
    "df['Levy'] = df['Levy'].apply(lambda x : int(x))"
   ]
  },
  {
   "cell_type": "markdown",
   "id": "c2e397bf",
   "metadata": {},
   "source": [
    "### 5-mile Age"
   ]
  },
  {
   "cell_type": "code",
   "execution_count": 91,
   "id": "5aa9462d",
   "metadata": {
    "ExecuteTime": {
     "end_time": "2022-08-18T11:20:41.712677Z",
     "start_time": "2022-08-18T11:20:41.693043Z"
    }
   },
   "outputs": [
    {
     "data": {
      "text/plain": [
       "2      70562 0\n",
       "5     124978 0\n",
       "7      81600 0\n",
       "16    152200 0\n",
       "17     85000 0\n",
       "Name: Mileage, dtype: object"
      ]
     },
     "execution_count": 91,
     "metadata": {},
     "output_type": "execute_result"
    }
   ],
   "source": [
    "df[\"Mileage\"].head()"
   ]
  },
  {
   "cell_type": "code",
   "execution_count": 92,
   "id": "2b83822d",
   "metadata": {
    "ExecuteTime": {
     "end_time": "2022-08-18T11:20:45.196224Z",
     "start_time": "2022-08-18T11:20:45.159767Z"
    }
   },
   "outputs": [],
   "source": [
    "df.Mileage = df.Mileage.apply(lambda x : str(x).replace(\" 0\",\"\"))\n",
    "df['Mileage'] = df['Mileage'].apply(lambda x : float(x))"
   ]
  },
  {
   "cell_type": "markdown",
   "id": "51313a18",
   "metadata": {},
   "source": [
    "### 6-Engine volume"
   ]
  },
  {
   "cell_type": "code",
   "execution_count": 44,
   "id": "45c5ab94",
   "metadata": {
    "ExecuteTime": {
     "end_time": "2022-08-18T10:55:36.460782Z",
     "start_time": "2022-08-18T10:55:36.441842Z"
    }
   },
   "outputs": [
    {
     "data": {
      "text/plain": [
       "array(['3.5', '3.7', '2.2', '1.4 Turbo', '4.3', '2', '3.0 Turbo', '3.2',\n",
       "       '3', '1.8 Turbo', '4.2', '2.0 Turbo', '1.9', '2.8', '4.2 Turbo',\n",
       "       '3.6', '2.4', '4', '2.7', '1.4', '2.7 Turbo', '5.2', '4.0 Turbo',\n",
       "       '6.8', '4.4', '2.5', '1.8', '4.8', '4.4 Turbo', '3.5 Turbo',\n",
       "       '4.8 Turbo', '1.6', '5', '2.3', '2.5 Turbo', '0.7', '3.1',\n",
       "       '2.8 Turbo', '4.5', '0.4 Turbo', '5.0 Turbo', '1.9 Turbo', '4.6',\n",
       "       '6.2', '3.6 Turbo', '5.3', '1', '1.5', '1.5 Turbo', '1.2', '1.3',\n",
       "       '1.7', '0.8', '5.7', '3.3', '1.6 Turbo', '0.7 Turbo', '4.7', '6.4',\n",
       "       '5.9', '6.3', '1.3 Turbo', '2.3 Turbo', '2.4 Turbo', '2.2 Turbo',\n",
       "       '3.7 Turbo', '3.8', '2.9 Turbo', '1.0 Turbo', '4.7 Turbo',\n",
       "       '3.2 Turbo', '1.7 Turbo', '6', '20', '0', '5.6', '2.1', '2.9',\n",
       "       '1.1', '5.7 Turbo', '5.4', '4.6 Turbo', '5.4 Turbo', '0.3 Turbo',\n",
       "       '5.5', '2.6', '6.3 Turbo', '5.5 Turbo', '2.1 Turbo', '0.6 Turbo',\n",
       "       '7.3', '4.5 Turbo', '0.8 Turbo', '5.8', '0.2 Turbo', '1.2 Turbo',\n",
       "       '3.4', '0.6', '0.1', '0.9'], dtype=object)"
      ]
     },
     "execution_count": 44,
     "metadata": {},
     "output_type": "execute_result"
    }
   ],
   "source": [
    "df['Engine volume'].unique()"
   ]
  },
  {
   "cell_type": "code",
   "execution_count": 93,
   "id": "13d57a42",
   "metadata": {
    "ExecuteTime": {
     "end_time": "2022-08-18T11:20:48.805773Z",
     "start_time": "2022-08-18T11:20:48.774849Z"
    }
   },
   "outputs": [],
   "source": [
    "df['Engine volume'] = df['Engine volume'].apply(lambda x : str(x).replace(\" Turbo\",\"\"))\n",
    "df['Engine volume'] = df['Engine volume'].apply(lambda x : float(x))"
   ]
  },
  {
   "cell_type": "markdown",
   "id": "f5a42e73",
   "metadata": {},
   "source": [
    "### 7-Leather interior"
   ]
  },
  {
   "cell_type": "code",
   "execution_count": 94,
   "id": "c69dbbd9",
   "metadata": {
    "ExecuteTime": {
     "end_time": "2022-08-18T11:20:50.837177Z",
     "start_time": "2022-08-18T11:20:50.822984Z"
    }
   },
   "outputs": [
    {
     "data": {
      "text/plain": [
       "Yes    10060\n",
       "No      4561\n",
       "Name: Leather interior, dtype: int64"
      ]
     },
     "execution_count": 94,
     "metadata": {},
     "output_type": "execute_result"
    }
   ],
   "source": [
    "df['Leather interior'].value_counts()\n"
   ]
  },
  {
   "cell_type": "code",
   "execution_count": 95,
   "id": "ce3abdd1",
   "metadata": {
    "ExecuteTime": {
     "end_time": "2022-08-18T11:20:53.697619Z",
     "start_time": "2022-08-18T11:20:53.530522Z"
    }
   },
   "outputs": [
    {
     "data": {
      "text/plain": [
       "<AxesSubplot:xlabel='Leather interior', ylabel='count'>"
      ]
     },
     "execution_count": 95,
     "metadata": {},
     "output_type": "execute_result"
    },
    {
     "data": {
      "image/png": "[encoded data removed]",
      "text/plain": [
       "<Figure size 432x288 with 1 Axes>"
      ]
     },
     "metadata": {
      "needs_background": "light"
     },
     "output_type": "display_data"
    }
   ],
   "source": [
    "sns.countplot(x='Leather interior',data=df)"
   ]
  },
  {
   "cell_type": "markdown",
   "id": "7a9badbd",
   "metadata": {},
   "source": [
    "### 8-Colors"
   ]
  },
  {
   "cell_type": "code",
   "execution_count": 96,
   "id": "23927ef1",
   "metadata": {
    "ExecuteTime": {
     "end_time": "2022-08-18T11:20:56.696362Z",
     "start_time": "2022-08-18T11:20:56.422530Z"
    }
   },
   "outputs": [
    {
     "data": {
      "text/plain": [
       "<matplotlib.collections.PathCollection at 0x22e7296ffd0>"
      ]
     },
     "execution_count": 96,
     "metadata": {},
     "output_type": "execute_result"
    },
    {
     "data": {
      "image/png": "[encoded data removed]",
      "text/plain": [
       "<Figure size 2160x720 with 1 Axes>"
      ]
     },
     "metadata": {
      "needs_background": "light"
     },
     "output_type": "display_data"
    }
   ],
   "source": [
    "plt.figure(figsize=(30,10))\n",
    "\n",
    "plt.scatter(df[\"Color\"],df[\"Price\"])"
   ]
  },
  {
   "cell_type": "markdown",
   "id": "f4f5cb01",
   "metadata": {},
   "source": [
    "# i think the color not effect in Price"
   ]
  },
  {
   "cell_type": "code",
   "execution_count": 97,
   "id": "93942ea9",
   "metadata": {
    "ExecuteTime": {
     "end_time": "2022-08-18T11:21:01.273389Z",
     "start_time": "2022-08-18T11:21:01.258481Z"
    }
   },
   "outputs": [],
   "source": [
    "df.drop(\"Color\",axis=1,inplace=True)"
   ]
  },
  {
   "cell_type": "markdown",
   "id": "62a8b610",
   "metadata": {},
   "source": [
    "### 10-Model\n"
   ]
  },
  {
   "cell_type": "code",
   "execution_count": 98,
   "id": "6da57ef9",
   "metadata": {
    "ExecuteTime": {
     "end_time": "2022-08-18T11:21:03.645946Z",
     "start_time": "2022-08-18T11:21:03.219212Z"
    }
   },
   "outputs": [
    {
     "data": {
      "text/plain": [
       "<AxesSubplot:xlabel='Model', ylabel='count'>"
      ]
     },
     "execution_count": 98,
     "metadata": {},
     "output_type": "execute_result"
    },
    {
     "data": {
      "image/png": "[encoded data removed]",
      "text/plain": [
       "<Figure size 2160x720 with 1 Axes>"
      ]
     },
     "metadata": {
      "needs_background": "light"
     },
     "output_type": "display_data"
    }
   ],
   "source": [
    "plt.figure(figsize=(30,10))\n",
    "\n",
    "sns.countplot(x ='Model',data = df,order=df.Model.value_counts().iloc[:30].index )"
   ]
  },
  {
   "cell_type": "code",
   "execution_count": 99,
   "id": "f4a9e086",
   "metadata": {
    "ExecuteTime": {
     "end_time": "2022-08-18T11:21:06.965662Z",
     "start_time": "2022-08-18T11:21:06.952109Z"
    }
   },
   "outputs": [
    {
     "data": {
      "text/plain": [
       "1455"
      ]
     },
     "execution_count": 99,
     "metadata": {},
     "output_type": "execute_result"
    }
   ],
   "source": [
    "len(df['Model'].unique())"
   ]
  },
  {
   "cell_type": "code",
   "execution_count": 100,
   "id": "f9686ea4",
   "metadata": {
    "ExecuteTime": {
     "end_time": "2022-08-18T11:21:09.102974Z",
     "start_time": "2022-08-18T11:21:09.077389Z"
    }
   },
   "outputs": [
    {
     "data": {
      "text/plain": [
       "Model\n",
       "Urus                        872946.000000\n",
       "G 65 AMG 63AMG              627220.000000\n",
       "AMG GT S                    297930.000000\n",
       "Range Rover Vogue           297930.000000\n",
       "M5 Машина в максимально     288521.000000\n",
       "GLE 400 A M G               254024.000000\n",
       "Continental GT              219527.000000\n",
       "G 65 AMG G63 AMG            216391.000000\n",
       "GLE 400                     193287.000000\n",
       "GLE 400 Coupe, AMG Kit      193184.000000\n",
       "Mulsanne                    175622.000000\n",
       "M6 Gran cupe                163077.000000\n",
       "Range Rover Velar           150533.000000\n",
       "F-type R                    150533.000000\n",
       "GLS 450                     148964.500000\n",
       "M4 Competition              144261.000000\n",
       "GLE 43 AMG                  141124.000000\n",
       "GLC 250                     141124.000000\n",
       "GLC 300 GLC coupe           131716.000000\n",
       "G 350                       124660.000000\n",
       "911                         119516.800000\n",
       "230 W153                    119172.000000\n",
       "RX 350 F sport              119172.000000\n",
       "S 350 W2222                 117290.000000\n",
       "X 250                       116036.000000\n",
       "LX 570                      113715.000000\n",
       "Pajero Sport                112900.000000\n",
       "X 250 ევროპული              109764.000000\n",
       "macan                       109450.000000\n",
       "530 G30                     106627.000000\n",
       "Panamera 4                  106627.000000\n",
       "640 M                       103491.000000\n",
       "Land Cruiser 200            103491.000000\n",
       "macan S                     103178.000000\n",
       "E-pace p200                 101923.000000\n",
       "456                         101923.000000\n",
       "A7 Prestige                 100355.000000\n",
       "Panamera GTS                100355.000000\n",
       "CLS 450 CLS 400              97219.000000\n",
       "640 GRAN-COUPE               97219.000000\n",
       "F-pace                       93090.000000\n",
       "Colorado                     93079.000000\n",
       "S 63 AMG                     91574.333333\n",
       "Ranger Wildtrak              90947.000000\n",
       "Sprinter 516                 89241.000000\n",
       "X6 40D                       86243.000000\n",
       "GL 450 3.0                   86243.000000\n",
       "C 200 7G-TRONIC              84675.000000\n",
       "Allroad Allroad              84675.000000\n",
       "NX 300                       83712.857143\n",
       "GL 350 BLUETEC               83107.000000\n",
       "M6                           82557.750000\n",
       "3008 2.0                     80000.000000\n",
       "650 450 HP                   78403.000000\n",
       "Range Rover Evoque რესტა     78403.000000\n",
       "RC F                         78403.000000\n",
       "Defender 90 Cabrio           78403.000000\n",
       "C 63 AMG                     78246.000000\n",
       "GL 63 AMG                    77775.000000\n",
       "GLA 200                      77148.000000\n",
       "Name: Price, dtype: float64"
      ]
     },
     "execution_count": 100,
     "metadata": {},
     "output_type": "execute_result"
    }
   ],
   "source": [
    "gb2=df.groupby(\"Model\")[\"Price\"].mean().sort_values(ascending=False).head(60)\n",
    "gb2"
   ]
  },
  {
   "cell_type": "code",
   "execution_count": 101,
   "id": "c3126fd6",
   "metadata": {
    "ExecuteTime": {
     "end_time": "2022-08-18T11:21:12.117654Z",
     "start_time": "2022-08-18T11:21:12.072800Z"
    }
   },
   "outputs": [],
   "source": [
    " A=gb2[gb2>=200000].index\n",
    "B=gb2[gb2>=100000].index\n",
    "C=gb2[gb2>=50000].index\n",
    "def category2(x):\n",
    "    if x in A:\n",
    "        return \"A\"\n",
    "    elif x in B:\n",
    "        return \"B\"\n",
    "    elif x in C:\n",
    "        return \"C\"\n",
    "    else:\n",
    "        return \"D\"\n",
    "df[\"Model\"]=df[\"Model\"].apply(category2)"
   ]
  },
  {
   "cell_type": "markdown",
   "id": "9ee57925",
   "metadata": {},
   "source": [
    "### 10-other"
   ]
  },
  {
   "cell_type": "code",
   "execution_count": 55,
   "id": "9992daad",
   "metadata": {
    "ExecuteTime": {
     "end_time": "2022-08-18T10:58:20.334489Z",
     "start_time": "2022-08-18T10:58:20.318594Z"
    }
   },
   "outputs": [
    {
     "data": {
      "text/plain": [
       "array(['4x4', 'Front', 'Rear'], dtype=object)"
      ]
     },
     "execution_count": 55,
     "metadata": {},
     "output_type": "execute_result"
    }
   ],
   "source": [
    "df[\"Drive wheels\"].unique()"
   ]
  },
  {
   "cell_type": "code",
   "execution_count": 56,
   "id": "af23edd1",
   "metadata": {
    "ExecuteTime": {
     "end_time": "2022-08-18T10:58:22.273368Z",
     "start_time": "2022-08-18T10:58:22.251917Z"
    }
   },
   "outputs": [
    {
     "data": {
      "text/plain": [
       "array(['Left wheel', 'Right-hand drive'], dtype=object)"
      ]
     },
     "execution_count": 56,
     "metadata": {},
     "output_type": "execute_result"
    }
   ],
   "source": [
    "df[\"Wheel\"].unique()"
   ]
  },
  {
   "cell_type": "code",
   "execution_count": 57,
   "id": "50e19986",
   "metadata": {
    "ExecuteTime": {
     "end_time": "2022-08-18T10:58:25.842377Z",
     "start_time": "2022-08-18T10:58:25.822635Z"
    }
   },
   "outputs": [
    {
     "data": {
      "text/plain": [
       "array(['Petrol', 'Hybrid', 'Diesel', 'CNG', 'LPG', 'Plug-in Hybrid',\n",
       "       'Hydrogen'], dtype=object)"
      ]
     },
     "execution_count": 57,
     "metadata": {},
     "output_type": "execute_result"
    }
   ],
   "source": [
    "df[\"Fuel type\"].unique()"
   ]
  },
  {
   "cell_type": "code",
   "execution_count": 58,
   "id": "5c9e9167",
   "metadata": {
    "ExecuteTime": {
     "end_time": "2022-08-18T10:58:28.537374Z",
     "start_time": "2022-08-18T10:58:28.516914Z"
    }
   },
   "outputs": [
    {
     "data": {
      "text/plain": [
       "array(['Petrol', 'Hybrid', 'Diesel', 'CNG', 'LPG', 'Plug-in Hybrid',\n",
       "       'Hydrogen'], dtype=object)"
      ]
     },
     "execution_count": 58,
     "metadata": {},
     "output_type": "execute_result"
    }
   ],
   "source": [
    "df[\"Fuel type\"].unique()"
   ]
  },
  {
   "cell_type": "code",
   "execution_count": 59,
   "id": "40b8ccec",
   "metadata": {
    "ExecuteTime": {
     "end_time": "2022-08-18T10:58:30.693982Z",
     "start_time": "2022-08-18T10:58:30.681033Z"
    }
   },
   "outputs": [
    {
     "data": {
      "text/plain": [
       "array(['Automatic', 'Manual', 'Tiptronic', 'Variator'], dtype=object)"
      ]
     },
     "execution_count": 59,
     "metadata": {},
     "output_type": "execute_result"
    }
   ],
   "source": [
    "df[\"Gear box type\"].unique()"
   ]
  },
  {
   "cell_type": "code",
   "execution_count": 102,
   "id": "9d0166de",
   "metadata": {
    "ExecuteTime": {
     "end_time": "2022-08-18T11:21:17.824672Z",
     "start_time": "2022-08-18T11:21:17.805561Z"
    }
   },
   "outputs": [],
   "source": [
    "df2=df.copy()"
   ]
  },
  {
   "cell_type": "code",
   "execution_count": 103,
   "id": "8a897ea5",
   "metadata": {
    "ExecuteTime": {
     "end_time": "2022-08-18T11:21:20.849765Z",
     "start_time": "2022-08-18T11:21:20.807218Z"
    }
   },
   "outputs": [],
   "source": [
    "df2=pd.get_dummies(df2)"
   ]
  },
  {
   "cell_type": "markdown",
   "id": "ed787034",
   "metadata": {},
   "source": [
    "# Scale"
   ]
  },
  {
   "cell_type": "code",
   "execution_count": 112,
   "id": "82b26b59",
   "metadata": {
    "ExecuteTime": {
     "end_time": "2022-08-18T11:37:00.087058Z",
     "start_time": "2022-08-18T11:37:00.050339Z"
    }
   },
   "outputs": [],
   "source": [
    "from sklearn.preprocessing import StandardScaler\n",
    "scaler=StandardScaler()\n",
    "scaler.fit(df2[['Mileage']])\n",
    "df2['Mileage'] = scaler.transform(df2[['Mileage']])\n",
    "scaler.fit(df2[['Prod. year']])\n",
    "df2['Prod. year'] = scaler.transform(df2[['Prod. year']])\n",
    "scaler.fit(df2[['Levy']])\n",
    "df2['Levy'] = scaler.transform(df2[['Levy']])"
   ]
  },
  {
   "cell_type": "code",
   "execution_count": 113,
   "id": "c9faa2e8",
   "metadata": {
    "ExecuteTime": {
     "end_time": "2022-08-18T11:37:47.419840Z",
     "start_time": "2022-08-18T11:37:47.403098Z"
    }
   },
   "outputs": [],
   "source": [
    "X=df2.drop(\"Price\",axis=1)\n",
    "y=df2[\"Price\"]\n"
   ]
  },
  {
   "cell_type": "markdown",
   "id": "f8034b61",
   "metadata": {},
   "source": [
    "# Linear regression"
   ]
  },
  {
   "cell_type": "code",
   "execution_count": 120,
   "id": "08378755",
   "metadata": {
    "ExecuteTime": {
     "end_time": "2022-08-18T11:42:20.238274Z",
     "start_time": "2022-08-18T11:42:19.907779Z"
    }
   },
   "outputs": [
    {
     "data": {
      "text/plain": [
       "0.40702926165366227"
      ]
     },
     "execution_count": 120,
     "metadata": {},
     "output_type": "execute_result"
    }
   ],
   "source": [
    "from sklearn.model_selection import cross_val_score\n",
    "from sklearn.linear_model import LinearRegression\n",
    "score=cross_val_score(LinearRegression(), X, y,cv=10) \n",
    "np.average(score)"
   ]
  },
  {
   "cell_type": "markdown",
   "id": "499b774d",
   "metadata": {},
   "source": [
    "# SVR"
   ]
  },
  {
   "cell_type": "code",
   "execution_count": 121,
   "id": "56ab0218",
   "metadata": {
    "ExecuteTime": {
     "end_time": "2022-08-18T11:49:47.776217Z",
     "start_time": "2022-08-18T11:49:28.282278Z"
    }
   },
   "outputs": [
    {
     "data": {
      "text/plain": [
       "0.11687833824756177"
      ]
     },
     "execution_count": 121,
     "metadata": {},
     "output_type": "execute_result"
    }
   ],
   "source": [
    "from sklearn.model_selection import train_test_split\n",
    "from sklearn.svm import SVR\n",
    "X_train,X_test,y_train,y_test=train_test_split(X,y,test_size=0.2,random_state=42)\n",
    "SV = SVR(kernel=\"linear\")\n",
    "SV.fit(X_train, y_train)\n",
    "SV.score(X_train, y_train)"
   ]
  },
  {
   "cell_type": "markdown",
   "id": "859f82a8",
   "metadata": {},
   "source": [
    "# DecisionTreeRegressor"
   ]
  },
  {
   "cell_type": "code",
   "execution_count": 124,
   "id": "7ffbf1c3",
   "metadata": {
    "ExecuteTime": {
     "end_time": "2022-08-18T11:59:01.937303Z",
     "start_time": "2022-08-18T11:59:01.775273Z"
    }
   },
   "outputs": [
    {
     "data": {
      "text/plain": [
       "0.3722933963612285"
      ]
     },
     "execution_count": 124,
     "metadata": {},
     "output_type": "execute_result"
    }
   ],
   "source": [
    "from sklearn.tree import DecisionTreeRegressor\n",
    "Regressor=DecisionTreeRegressor()\n",
    "Regressor.fit(X_train,y_train)\n",
    "Regressor.score(X_train,y_train)\n",
    "Regressor.score(X_test,y_test)"
   ]
  },
  {
   "cell_type": "markdown",
   "id": "57979a7b",
   "metadata": {},
   "source": [
    "# XG Boost"
   ]
  },
  {
   "cell_type": "code",
   "execution_count": 126,
   "id": "a65e286b",
   "metadata": {
    "ExecuteTime": {
     "end_time": "2022-08-18T12:03:39.156589Z",
     "start_time": "2022-08-18T12:03:35.614477Z"
    }
   },
   "outputs": [
    {
     "name": "stdout",
     "output_type": "stream",
     "text": [
      "Training score: 0.7556822136989048\n",
      "Testing score: 0.6215741837606426\n"
     ]
    }
   ],
   "source": [
    "from sklearn.ensemble import GradientBoostingRegressor\n",
    "GB=GradientBoostingRegressor()\n",
    "GB.fit(X_train,y_train)\n",
    "print(\"Training score:\",GB.score(X_train,y_train))\n",
    "print(\"Testing score:\",GB.score(X_test,y_test))"
   ]
  }
 ],
 "metadata": {
  "kernelspec": {
   "display_name": "Python 3 (ipykernel)",
   "language": "python",
   "name": "python3"
  },
  "language_info": {
   "codemirror_mode": {
    "name": "ipython",
    "version": 3
   },
   "file_extension": ".py",
   "mimetype": "text/x-python",
   "name": "python",
   "nbconvert_exporter": "python",
   "pygments_lexer": "ipython3",
   "version": "3.9.12"
  }
 },
 "nbformat": 4,
 "nbformat_minor": 5
}
